{
 "cells": [
  {
   "cell_type": "markdown",
   "metadata": {},
   "source": [
    "## Data uploading"
   ]
  },
  {
   "cell_type": "code",
   "execution_count": 1,
   "metadata": {},
   "outputs": [],
   "source": [
    "import requests"
   ]
  },
  {
   "cell_type": "code",
   "execution_count": 3,
   "metadata": {},
   "outputs": [
    {
     "data": {
      "text/plain": [
       "48301"
      ]
     },
     "execution_count": 3,
     "metadata": {},
     "output_type": "execute_result"
    }
   ],
   "source": [
    "url = 'https://pastebin.com/raw/TPXFpyYK'\n",
    "req = requests.get(url, allow_redirects=True)\n",
    "\n",
    "open('weather.csv', 'wb').write(req.content)"
   ]
  },
  {
   "cell_type": "markdown",
   "metadata": {},
   "source": [
    "## Data processing"
   ]
  },
  {
   "cell_type": "code",
   "execution_count": 4,
   "metadata": {},
   "outputs": [],
   "source": [
    "import os\n",
    "import pyspark.sql.functions as F\n",
    "from pyspark.sql import SparkSession\n",
    "\n",
    "os.environ[\"PYSPARK_PYTHON\"]=\"python3\"\n",
    "\n",
    "WEATHER_FILE = \"weather.csv\""
   ]
  },
  {
   "cell_type": "code",
   "execution_count": 6,
   "metadata": {},
   "outputs": [],
   "source": [
    "spark = SparkSession \\\n",
    "    .builder \\\n",
    "    .master(\"local[*]\") \\\n",
    "    .appName(\"Extra Task\") \\\n",
    "    .getOrCreate()"
   ]
  },
  {
   "cell_type": "code",
   "execution_count": 37,
   "metadata": {},
   "outputs": [
    {
     "name": "stdout",
     "output_type": "stream",
     "text": [
      "+----------+----+\n",
      "|      date|temp|\n",
      "+----------+----+\n",
      "|2008-01-01|   0|\n",
      "|2008-01-02|  -5|\n",
      "|2008-01-03| -11|\n",
      "|2008-01-04| -11|\n",
      "|2008-01-05| -12|\n",
      "+----------+----+\n",
      "only showing top 5 rows\n",
      "\n"
     ]
    }
   ],
   "source": [
    "df = spark.read.csv(WEATHER_FILE, header=True, inferSchema=True).toDF(\"date\", \"temp\")\n",
    "df.show(5)"
   ]
  },
  {
   "cell_type": "code",
   "execution_count": 38,
   "metadata": {},
   "outputs": [
    {
     "name": "stdout",
     "output_type": "stream",
     "text": [
      "+----+-----+----+\n",
      "|year|month|temp|\n",
      "+----+-----+----+\n",
      "|2008|    1|   0|\n",
      "|2008|    1|  -5|\n",
      "|2008|    1| -11|\n",
      "|2008|    1| -11|\n",
      "|2008|    1| -12|\n",
      "+----+-----+----+\n",
      "only showing top 5 rows\n",
      "\n"
     ]
    }
   ],
   "source": [
    "df = df \\\n",
    "    .select(F.year(\"date\").alias(\"year\"), F.month(\"date\").alias(\"month\"), df.temp)\n",
    "\n",
    "df.show(5)"
   ]
  },
  {
   "cell_type": "code",
   "execution_count": 39,
   "metadata": {},
   "outputs": [
    {
     "name": "stdout",
     "output_type": "stream",
     "text": [
      "+----+-----+--------------------+\n",
      "|year|month|           avg(temp)|\n",
      "+----+-----+--------------------+\n",
      "|2012|   10|    7.67741935483871|\n",
      "|2010|    7|   27.06451612903226|\n",
      "|2010|   12|  -7.935483870967742|\n",
      "|2015|    2|-0.21428571428571427|\n",
      "|2008|    8|  17.419354838709676|\n",
      "+----+-----+--------------------+\n",
      "only showing top 5 rows\n",
      "\n"
     ]
    }
   ],
   "source": [
    "df = df \\\n",
    "    .groupBy(df.year, df.month) \\\n",
    "    .agg(F.avg(\"temp\"))\n",
    "\n",
    "df.show(5)"
   ]
  },
  {
   "cell_type": "code",
   "execution_count": 40,
   "metadata": {},
   "outputs": [
    {
     "name": "stdout",
     "output_type": "stream",
     "text": [
      "+----+------------------+\n",
      "|year|    month_temp_var|\n",
      "+----+------------------+\n",
      "|2010|158.22513898260243|\n",
      "+----+------------------+\n",
      "\n"
     ]
    }
   ],
   "source": [
    "df = df \\\n",
    "    .groupBy(df.year) \\\n",
    "    .agg(F.variance(\"avg(temp)\").alias(\"month_temp_var\")) \\\n",
    "    .orderBy(\"month_temp_var\", ascending=False) \\\n",
    "    .limit(1)\n",
    "\n",
    "df.show()"
   ]
  }
 ],
 "metadata": {
  "kernelspec": {
   "display_name": "Python 3.8.10 64-bit",
   "language": "python",
   "name": "python3"
  },
  "language_info": {
   "codemirror_mode": {
    "name": "ipython",
    "version": 3
   },
   "file_extension": ".py",
   "mimetype": "text/x-python",
   "name": "python",
   "nbconvert_exporter": "python",
   "pygments_lexer": "ipython3",
   "version": "3.8.10"
  },
  "orig_nbformat": 4,
  "vscode": {
   "interpreter": {
    "hash": "31f2aee4e71d21fbe5cf8b01ff0e069b9275f58929596ceb00d14d90e3e16cd6"
   }
  }
 },
 "nbformat": 4,
 "nbformat_minor": 2
}
